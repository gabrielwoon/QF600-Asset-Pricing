{
 "cells": [
  {
   "cell_type": "markdown",
   "id": "108111a9",
   "metadata": {},
   "source": [
    "# QF600 Assignment 3"
   ]
  },
  {
   "cell_type": "markdown",
   "id": "d8cf2448",
   "metadata": {},
   "source": [
    "###### Prepared By:\n",
    "Gabriel Woon"
   ]
  },
  {
   "cell_type": "markdown",
   "id": "ca117a92",
   "metadata": {},
   "source": [
    "# Import Library"
   ]
  },
  {
   "cell_type": "code",
   "execution_count": 1,
   "id": "dc2dc7bc",
   "metadata": {},
   "outputs": [],
   "source": [
    "import pandas as pd\n",
    "import numpy as np\n",
    "import matplotlib.pyplot as plt\n",
    "\n",
    "import warnings\n",
    "warnings.filterwarnings(\"ignore\")\n",
    "\n",
    "from sklearn.linear_model import LinearRegression"
   ]
  },
  {
   "cell_type": "markdown",
   "id": "fdaa2caf",
   "metadata": {},
   "source": [
    "# Import Data"
   ]
  },
  {
   "cell_type": "code",
   "execution_count": 2,
   "id": "46993b7e",
   "metadata": {},
   "outputs": [],
   "source": [
    "data_ind_raw = pd.read_excel('Industry_Portfolios.xlsx')\n",
    "data_ind = data_ind_raw.drop(\"Date\", axis = 1)\n",
    "data_mkt_raw = pd.read_excel('Market_Portfolio.xlsx')\n",
    "data_mkt = data_mkt_raw.drop(\"Date\", axis = 1)\n",
    "data_risk_raw = pd.read_excel('Risk_Factors.xlsx')\n",
    "data_risk = data_risk_raw.drop(\"Date\", axis = 1)"
   ]
  },
  {
   "cell_type": "markdown",
   "id": "dac43e51",
   "metadata": {},
   "source": [
    "# Excess Returns"
   ]
  },
  {
   "cell_type": "code",
   "execution_count": 3,
   "id": "32665723",
   "metadata": {},
   "outputs": [],
   "source": [
    "# create risk-free dataframe\n",
    "Rf = data_risk[\"Rf\"].copy()"
   ]
  },
  {
   "cell_type": "code",
   "execution_count": 4,
   "id": "fbe8fe8b",
   "metadata": {},
   "outputs": [],
   "source": [
    "# calculate excess return against risk-free\n",
    "excess_rf = pd.DataFrame(data_ind.subtract(Rf, axis=0), \n",
    "                         columns = data_ind.columns)"
   ]
  },
  {
   "cell_type": "code",
   "execution_count": 5,
   "id": "1c915d23",
   "metadata": {},
   "outputs": [],
   "source": [
    "# calculate excess return against target\n",
    "excess_target = pd.DataFrame(data_ind.subtract(Rf, axis=0), \n",
    "                             columns = data_ind.columns)"
   ]
  },
  {
   "cell_type": "markdown",
   "id": "7e70e5d4",
   "metadata": {},
   "source": [
    "# Sharpe Ratio"
   ]
  },
  {
   "cell_type": "code",
   "execution_count": 6,
   "id": "fc8be956",
   "metadata": {},
   "outputs": [
    {
     "data": {
      "text/html": [
       "<div>\n",
       "<style scoped>\n",
       "    .dataframe tbody tr th:only-of-type {\n",
       "        vertical-align: middle;\n",
       "    }\n",
       "\n",
       "    .dataframe tbody tr th {\n",
       "        vertical-align: top;\n",
       "    }\n",
       "\n",
       "    .dataframe thead th {\n",
       "        text-align: right;\n",
       "    }\n",
       "</style>\n",
       "<table border=\"1\" class=\"dataframe\">\n",
       "  <thead>\n",
       "    <tr style=\"text-align: right;\">\n",
       "      <th></th>\n",
       "      <th>NoDur</th>\n",
       "      <th>Durbl</th>\n",
       "      <th>Manuf</th>\n",
       "      <th>Enrgy</th>\n",
       "      <th>HiTec</th>\n",
       "      <th>Telcm</th>\n",
       "      <th>Shops</th>\n",
       "      <th>Hlth</th>\n",
       "      <th>Utils</th>\n",
       "      <th>Other</th>\n",
       "    </tr>\n",
       "  </thead>\n",
       "  <tbody>\n",
       "    <tr>\n",
       "      <th>Sharpe Ratio</th>\n",
       "      <td>0.231099</td>\n",
       "      <td>0.072356</td>\n",
       "      <td>0.166616</td>\n",
       "      <td>0.181708</td>\n",
       "      <td>0.118552</td>\n",
       "      <td>0.169064</td>\n",
       "      <td>0.191753</td>\n",
       "      <td>0.172529</td>\n",
       "      <td>0.210948</td>\n",
       "      <td>0.064693</td>\n",
       "    </tr>\n",
       "  </tbody>\n",
       "</table>\n",
       "</div>"
      ],
      "text/plain": [
       "                 NoDur     Durbl     Manuf     Enrgy     HiTec     Telcm  \\\n",
       "Sharpe Ratio  0.231099  0.072356  0.166616  0.181708  0.118552  0.169064   \n",
       "\n",
       "                 Shops      Hlth     Utils     Other  \n",
       "Sharpe Ratio  0.191753  0.172529  0.210948  0.064693  "
      ]
     },
     "execution_count": 6,
     "metadata": {},
     "output_type": "execute_result"
    }
   ],
   "source": [
    "# calculate sharpe ratio\n",
    "sharpe_ratio = excess_rf.mean()/excess_rf.std()\n",
    "sharpe_ratio_table = pd.DataFrame(sharpe_ratio).T.rename(index={0: 'Sharpe Ratio'}); sharpe_ratio_table"
   ]
  },
  {
   "cell_type": "code",
   "execution_count": 7,
   "id": "c8f32b0d",
   "metadata": {},
   "outputs": [
    {
     "data": {
      "text/plain": [
       "Text(0.5, 1.0, 'Sharpe Ratio')"
      ]
     },
     "execution_count": 7,
     "metadata": {},
     "output_type": "execute_result"
    },
    {
     "data": {
      "image/png": "[encoded data removed]",
      "text/plain": [
       "<Figure size 648x216 with 1 Axes>"
      ]
     },
     "metadata": {
      "needs_background": "light"
     },
     "output_type": "display_data"
    }
   ],
   "source": [
    "# plot sharpe ratio\n",
    "plt.figure(figsize = (9, 3))\n",
    "plt.bar(range(len(sharpe_ratio)), sharpe_ratio, tick_label=data_ind.columns)\n",
    "plt.title(\"Sharpe Ratio\")"
   ]
  },
  {
   "cell_type": "markdown",
   "id": "9c180bcd",
   "metadata": {},
   "source": [
    "# Sortino Ratio"
   ]
  },
  {
   "cell_type": "code",
   "execution_count": 8,
   "id": "03151a79",
   "metadata": {
    "scrolled": true
   },
   "outputs": [],
   "source": [
    "# calculate semi-variance\n",
    "semi_variance = excess_target.copy()\n",
    "semi_variance[semi_variance > 0] = 0;\n",
    "semi_variance = semi_variance**2"
   ]
  },
  {
   "cell_type": "code",
   "execution_count": 9,
   "id": "10b91dd2",
   "metadata": {
    "scrolled": true
   },
   "outputs": [
    {
     "data": {
      "text/html": [
       "<div>\n",
       "<style scoped>\n",
       "    .dataframe tbody tr th:only-of-type {\n",
       "        vertical-align: middle;\n",
       "    }\n",
       "\n",
       "    .dataframe tbody tr th {\n",
       "        vertical-align: top;\n",
       "    }\n",
       "\n",
       "    .dataframe thead th {\n",
       "        text-align: right;\n",
       "    }\n",
       "</style>\n",
       "<table border=\"1\" class=\"dataframe\">\n",
       "  <thead>\n",
       "    <tr style=\"text-align: right;\">\n",
       "      <th></th>\n",
       "      <th>NoDur</th>\n",
       "      <th>Durbl</th>\n",
       "      <th>Manuf</th>\n",
       "      <th>Enrgy</th>\n",
       "      <th>HiTec</th>\n",
       "      <th>Telcm</th>\n",
       "      <th>Shops</th>\n",
       "      <th>Hlth</th>\n",
       "      <th>Utils</th>\n",
       "      <th>Other</th>\n",
       "    </tr>\n",
       "  </thead>\n",
       "  <tbody>\n",
       "    <tr>\n",
       "      <th>Sortino Ratio</th>\n",
       "      <td>0.350804</td>\n",
       "      <td>0.111967</td>\n",
       "      <td>0.24126</td>\n",
       "      <td>0.273612</td>\n",
       "      <td>0.17062</td>\n",
       "      <td>0.24494</td>\n",
       "      <td>0.293032</td>\n",
       "      <td>0.270294</td>\n",
       "      <td>0.290044</td>\n",
       "      <td>0.087351</td>\n",
       "    </tr>\n",
       "  </tbody>\n",
       "</table>\n",
       "</div>"
      ],
      "text/plain": [
       "                  NoDur     Durbl    Manuf     Enrgy    HiTec    Telcm  \\\n",
       "Sortino Ratio  0.350804  0.111967  0.24126  0.273612  0.17062  0.24494   \n",
       "\n",
       "                  Shops      Hlth     Utils     Other  \n",
       "Sortino Ratio  0.293032  0.270294  0.290044  0.087351  "
      ]
     },
     "execution_count": 9,
     "metadata": {},
     "output_type": "execute_result"
    }
   ],
   "source": [
    "# calculate sortino ratio\n",
    "sortino_ratio = excess_target.mean()/semi_variance.mean()**0.5\n",
    "sortino_ratio_table = pd.DataFrame(sortino_ratio).T.rename(index={0: 'Sortino Ratio'}); sortino_ratio_table"
   ]
  },
  {
   "cell_type": "code",
   "execution_count": 10,
   "id": "2d7c85f4",
   "metadata": {
    "scrolled": true
   },
   "outputs": [
    {
     "data": {
      "text/plain": [
       "Text(0.5, 1.0, 'Sortino Ratio')"
      ]
     },
     "execution_count": 10,
     "metadata": {},
     "output_type": "execute_result"
    },
    {
     "data": {
      "image/png": "[encoded data removed]",
      "text/plain": [
       "<Figure size 648x216 with 1 Axes>"
      ]
     },
     "metadata": {
      "needs_background": "light"
     },
     "output_type": "display_data"
    }
   ],
   "source": [
    "# plot sortino ratio\n",
    "plt.figure(figsize = (9, 3))\n",
    "plt.bar(range(len(sortino_ratio)), sortino_ratio, tick_label=data_ind.columns)\n",
    "plt.title(\"Sortino Ratio\")"
   ]
  },
  {
   "cell_type": "markdown",
   "id": "91c3e978",
   "metadata": {},
   "source": [
    "# Treynor Ratio"
   ]
  },
  {
   "cell_type": "code",
   "execution_count": 11,
   "id": "17582a29",
   "metadata": {},
   "outputs": [],
   "source": [
    "# market model regression\n",
    "MM = LinearRegression().fit(data_risk[[\"Rm-Rf\"]], excess_rf)\n",
    "MM_alpha = MM.intercept_\n",
    "MM_beta = MM.coef_"
   ]
  },
  {
   "cell_type": "code",
   "execution_count": 12,
   "id": "4e513831",
   "metadata": {},
   "outputs": [
    {
     "data": {
      "text/html": [
       "<div>\n",
       "<style scoped>\n",
       "    .dataframe tbody tr th:only-of-type {\n",
       "        vertical-align: middle;\n",
       "    }\n",
       "\n",
       "    .dataframe tbody tr th {\n",
       "        vertical-align: top;\n",
       "    }\n",
       "\n",
       "    .dataframe thead th {\n",
       "        text-align: right;\n",
       "    }\n",
       "</style>\n",
       "<table border=\"1\" class=\"dataframe\">\n",
       "  <thead>\n",
       "    <tr style=\"text-align: right;\">\n",
       "      <th></th>\n",
       "      <th>NoDur</th>\n",
       "      <th>Durbl</th>\n",
       "      <th>Manuf</th>\n",
       "      <th>Enrgy</th>\n",
       "      <th>HiTec</th>\n",
       "      <th>Telcm</th>\n",
       "      <th>Shops</th>\n",
       "      <th>Hlth</th>\n",
       "      <th>Utils</th>\n",
       "      <th>Other</th>\n",
       "    </tr>\n",
       "  </thead>\n",
       "  <tbody>\n",
       "    <tr>\n",
       "      <th>Slope (β)</th>\n",
       "      <td>0.653744</td>\n",
       "      <td>1.649374</td>\n",
       "      <td>1.167929</td>\n",
       "      <td>0.965527</td>\n",
       "      <td>1.132387</td>\n",
       "      <td>0.901721</td>\n",
       "      <td>0.829515</td>\n",
       "      <td>0.67589</td>\n",
       "      <td>0.537009</td>\n",
       "      <td>1.206992</td>\n",
       "    </tr>\n",
       "  </tbody>\n",
       "</table>\n",
       "</div>"
      ],
      "text/plain": [
       "              NoDur     Durbl     Manuf     Enrgy     HiTec     Telcm  \\\n",
       "Slope (β)  0.653744  1.649374  1.167929  0.965527  1.132387  0.901721   \n",
       "\n",
       "              Shops     Hlth     Utils     Other  \n",
       "Slope (β)  0.829515  0.67589  0.537009  1.206992  "
      ]
     },
     "execution_count": 12,
     "metadata": {},
     "output_type": "execute_result"
    }
   ],
   "source": [
    "# beta\n",
    "MM_beta = pd.DataFrame(MM_beta.reshape(1,10), index = ['Slope (β)'], columns = data_ind.columns); MM_beta"
   ]
  },
  {
   "cell_type": "code",
   "execution_count": 13,
   "id": "5c00984c",
   "metadata": {},
   "outputs": [
    {
     "data": {
      "text/html": [
       "<div>\n",
       "<style scoped>\n",
       "    .dataframe tbody tr th:only-of-type {\n",
       "        vertical-align: middle;\n",
       "    }\n",
       "\n",
       "    .dataframe tbody tr th {\n",
       "        vertical-align: top;\n",
       "    }\n",
       "\n",
       "    .dataframe thead th {\n",
       "        text-align: right;\n",
       "    }\n",
       "</style>\n",
       "<table border=\"1\" class=\"dataframe\">\n",
       "  <thead>\n",
       "    <tr style=\"text-align: right;\">\n",
       "      <th></th>\n",
       "      <th>NoDur</th>\n",
       "      <th>Durbl</th>\n",
       "      <th>Manuf</th>\n",
       "      <th>Enrgy</th>\n",
       "      <th>HiTec</th>\n",
       "      <th>Telcm</th>\n",
       "      <th>Shops</th>\n",
       "      <th>Hlth</th>\n",
       "      <th>Utils</th>\n",
       "      <th>Other</th>\n",
       "    </tr>\n",
       "  </thead>\n",
       "  <tbody>\n",
       "    <tr>\n",
       "      <th>Treynor Ratio</th>\n",
       "      <td>1.186372</td>\n",
       "      <td>0.367463</td>\n",
       "      <td>0.758251</td>\n",
       "      <td>1.14333</td>\n",
       "      <td>0.564295</td>\n",
       "      <td>0.836363</td>\n",
       "      <td>0.951258</td>\n",
       "      <td>0.971435</td>\n",
       "      <td>1.452334</td>\n",
       "      <td>0.299781</td>\n",
       "    </tr>\n",
       "  </tbody>\n",
       "</table>\n",
       "</div>"
      ],
      "text/plain": [
       "                  NoDur     Durbl     Manuf    Enrgy     HiTec     Telcm  \\\n",
       "Treynor Ratio  1.186372  0.367463  0.758251  1.14333  0.564295  0.836363   \n",
       "\n",
       "                  Shops      Hlth     Utils     Other  \n",
       "Treynor Ratio  0.951258  0.971435  1.452334  0.299781  "
      ]
     },
     "execution_count": 13,
     "metadata": {},
     "output_type": "execute_result"
    }
   ],
   "source": [
    "# calculate treynor ratio\n",
    "treynor_ratio = excess_rf.mean()/MM_beta\n",
    "treynor_ratio_table = pd.DataFrame(treynor_ratio).rename(index={\"Slope (β)\": 'Treynor Ratio'}); treynor_ratio_table"
   ]
  },
  {
   "cell_type": "code",
   "execution_count": 14,
   "id": "3c51cb4d",
   "metadata": {},
   "outputs": [
    {
     "data": {
      "text/plain": [
       "Text(0.5, 1.0, 'Treynor Ratio')"
      ]
     },
     "execution_count": 14,
     "metadata": {},
     "output_type": "execute_result"
    },
    {
     "data": {
      "image/png": "[encoded data removed]",
      "text/plain": [
       "<Figure size 648x216 with 1 Axes>"
      ]
     },
     "metadata": {
      "needs_background": "light"
     },
     "output_type": "display_data"
    }
   ],
   "source": [
    "# plot treynor ratio\n",
    "plt.figure(figsize = (9, 3))\n",
    "plt.bar(range(len(treynor_ratio.iloc[0])), treynor_ratio.iloc[0], tick_label=data_ind.columns)\n",
    "plt.title(\"Treynor Ratio\")"
   ]
  },
  {
   "cell_type": "markdown",
   "id": "485098b4",
   "metadata": {},
   "source": [
    "# Jenson's Alpha"
   ]
  },
  {
   "cell_type": "code",
   "execution_count": 15,
   "id": "a048a925",
   "metadata": {},
   "outputs": [
    {
     "data": {
      "text/html": [
       "<div>\n",
       "<style scoped>\n",
       "    .dataframe tbody tr th:only-of-type {\n",
       "        vertical-align: middle;\n",
       "    }\n",
       "\n",
       "    .dataframe tbody tr th {\n",
       "        vertical-align: top;\n",
       "    }\n",
       "\n",
       "    .dataframe thead th {\n",
       "        text-align: right;\n",
       "    }\n",
       "</style>\n",
       "<table border=\"1\" class=\"dataframe\">\n",
       "  <thead>\n",
       "    <tr style=\"text-align: right;\">\n",
       "      <th></th>\n",
       "      <th>NoDur</th>\n",
       "      <th>Durbl</th>\n",
       "      <th>Manuf</th>\n",
       "      <th>Enrgy</th>\n",
       "      <th>HiTec</th>\n",
       "      <th>Telcm</th>\n",
       "      <th>Shops</th>\n",
       "      <th>Hlth</th>\n",
       "      <th>Utils</th>\n",
       "      <th>Other</th>\n",
       "    </tr>\n",
       "  </thead>\n",
       "  <tbody>\n",
       "    <tr>\n",
       "      <th>Jensens Alpha</th>\n",
       "      <td>0.369717</td>\n",
       "      <td>-0.417903</td>\n",
       "      <td>0.160494</td>\n",
       "      <td>0.504485</td>\n",
       "      <td>-0.064024</td>\n",
       "      <td>0.194348</td>\n",
       "      <td>0.274093</td>\n",
       "      <td>0.236968</td>\n",
       "      <td>0.446523</td>\n",
       "      <td>-0.387508</td>\n",
       "    </tr>\n",
       "  </tbody>\n",
       "</table>\n",
       "</div>"
      ],
      "text/plain": [
       "                  NoDur     Durbl     Manuf     Enrgy     HiTec     Telcm  \\\n",
       "Jensens Alpha  0.369717 -0.417903  0.160494  0.504485 -0.064024  0.194348   \n",
       "\n",
       "                  Shops      Hlth     Utils     Other  \n",
       "Jensens Alpha  0.274093  0.236968  0.446523 -0.387508  "
      ]
     },
     "execution_count": 15,
     "metadata": {},
     "output_type": "execute_result"
    }
   ],
   "source": [
    "# calculate jenson's alpha\n",
    "jensens_alpha = pd.DataFrame(MM_alpha.reshape(1,10), index = ['Jensens Alpha'],\n",
    "                                       columns = data_ind.columns)\n",
    "jensens_alpha"
   ]
  },
  {
   "cell_type": "code",
   "execution_count": 16,
   "id": "f7deaf33",
   "metadata": {},
   "outputs": [
    {
     "data": {
      "text/plain": [
       "Text(0.5, 1.0, 'Jensens Alpha')"
      ]
     },
     "execution_count": 16,
     "metadata": {},
     "output_type": "execute_result"
    },
    {
     "data": {
      "image/png": "[encoded data removed]",
      "text/plain": [
       "<Figure size 648x216 with 1 Axes>"
      ]
     },
     "metadata": {
      "needs_background": "light"
     },
     "output_type": "display_data"
    }
   ],
   "source": [
    "# plot jensen's alpha\n",
    "plt.figure(figsize = (9, 3))\n",
    "plt.bar(range(len(MM_alpha)), MM_alpha, tick_label=data_ind.columns)\n",
    "plt.title(\"Jensens Alpha\")"
   ]
  },
  {
   "cell_type": "markdown",
   "id": "d7c61623",
   "metadata": {},
   "source": [
    "# Three-Factor Alpha"
   ]
  },
  {
   "cell_type": "code",
   "execution_count": 17,
   "id": "fdd3bf04",
   "metadata": {},
   "outputs": [],
   "source": [
    "# three-factor regression\n",
    "risk_factors = data_risk[['Rm-Rf','SMB','HML']]\n",
    "TFM = LinearRegression().fit(risk_factors, excess_rf)\n",
    "TFM_beta = TFM.coef_\n",
    "TFM_alpha = TFM.intercept_"
   ]
  },
  {
   "cell_type": "code",
   "execution_count": 18,
   "id": "f26715db",
   "metadata": {},
   "outputs": [
    {
     "data": {
      "text/html": [
       "<div>\n",
       "<style scoped>\n",
       "    .dataframe tbody tr th:only-of-type {\n",
       "        vertical-align: middle;\n",
       "    }\n",
       "\n",
       "    .dataframe tbody tr th {\n",
       "        vertical-align: top;\n",
       "    }\n",
       "\n",
       "    .dataframe thead th {\n",
       "        text-align: right;\n",
       "    }\n",
       "</style>\n",
       "<table border=\"1\" class=\"dataframe\">\n",
       "  <thead>\n",
       "    <tr style=\"text-align: right;\">\n",
       "      <th></th>\n",
       "      <th>NoDur</th>\n",
       "      <th>Durbl</th>\n",
       "      <th>Manuf</th>\n",
       "      <th>Enrgy</th>\n",
       "      <th>HiTec</th>\n",
       "      <th>Telcm</th>\n",
       "      <th>Shops</th>\n",
       "      <th>Hlth</th>\n",
       "      <th>Utils</th>\n",
       "      <th>Other</th>\n",
       "    </tr>\n",
       "  </thead>\n",
       "  <tbody>\n",
       "    <tr>\n",
       "      <th>Three-Factor Alpha</th>\n",
       "      <td>0.386704</td>\n",
       "      <td>-0.474342</td>\n",
       "      <td>0.153285</td>\n",
       "      <td>0.523007</td>\n",
       "      <td>-0.065979</td>\n",
       "      <td>0.200724</td>\n",
       "      <td>0.255941</td>\n",
       "      <td>0.257472</td>\n",
       "      <td>0.474411</td>\n",
       "      <td>-0.404412</td>\n",
       "    </tr>\n",
       "  </tbody>\n",
       "</table>\n",
       "</div>"
      ],
      "text/plain": [
       "                       NoDur     Durbl     Manuf     Enrgy     HiTec  \\\n",
       "Three-Factor Alpha  0.386704 -0.474342  0.153285  0.523007 -0.065979   \n",
       "\n",
       "                       Telcm     Shops      Hlth     Utils     Other  \n",
       "Three-Factor Alpha  0.200724  0.255941  0.257472  0.474411 -0.404412  "
      ]
     },
     "execution_count": 18,
     "metadata": {},
     "output_type": "execute_result"
    }
   ],
   "source": [
    "# calculate three-factor alpha\n",
    "three_factor_alpha = pd.DataFrame(TFM_alpha.reshape(1,10), index = ['Three-Factor Alpha'],\n",
    "                                       columns = data_ind.columns)\n",
    "three_factor_alpha"
   ]
  },
  {
   "cell_type": "code",
   "execution_count": 19,
   "id": "619b591c",
   "metadata": {
    "scrolled": false
   },
   "outputs": [
    {
     "data": {
      "text/plain": [
       "Text(0.5, 1.0, 'Three-Factor Alpha')"
      ]
     },
     "execution_count": 19,
     "metadata": {},
     "output_type": "execute_result"
    },
    {
     "data": {
      "image/png": "[encoded data removed]",
      "text/plain": [
       "<Figure size 648x216 with 1 Axes>"
      ]
     },
     "metadata": {
      "needs_background": "light"
     },
     "output_type": "display_data"
    }
   ],
   "source": [
    "# plot three-factor alpha\n",
    "plt.figure(figsize = (9, 3))\n",
    "plt.bar(range(len(TFM_alpha)), TFM_alpha, tick_label=data_ind.columns)\n",
    "plt.title(\"Three-Factor Alpha\")"
   ]
  }
 ],
 "metadata": {
  "kernelspec": {
   "display_name": "Python 3 (ipykernel)",
   "language": "python",
   "name": "python3"
  },
  "language_info": {
   "codemirror_mode": {
    "name": "ipython",
    "version": 3
   },
   "file_extension": ".py",
   "mimetype": "text/x-python",
   "name": "python",
   "nbconvert_exporter": "python",
   "pygments_lexer": "ipython3",
   "version": "3.9.7"
  }
 },
 "nbformat": 4,
 "nbformat_minor": 5
}
