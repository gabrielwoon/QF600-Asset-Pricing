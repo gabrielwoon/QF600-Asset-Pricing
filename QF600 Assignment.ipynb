{
 "cells": [
  {
   "cell_type": "markdown",
   "id": "478d5721",
   "metadata": {},
   "source": [
    "# QF600 Assignment 2"
   ]
  },
  {
   "cell_type": "markdown",
   "id": "ad62b0c6",
   "metadata": {},
   "source": [
    "###### Prepared By:\n",
    "Gabriel Woon"
   ]
  },
  {
   "cell_type": "markdown",
   "id": "f759ca9b",
   "metadata": {},
   "source": [
    "# Import Library"
   ]
  },
  {
   "cell_type": "code",
   "execution_count": 1,
   "id": "58061c47",
   "metadata": {},
   "outputs": [],
   "source": [
    "import pandas as pd\n",
    "import numpy as np\n",
    "import matplotlib.pyplot as plt\n",
    "\n",
    "import warnings\n",
    "warnings.filterwarnings(\"ignore\")\n",
    "\n",
    "from sklearn.linear_model import LinearRegression"
   ]
  },
  {
   "cell_type": "markdown",
   "id": "ea8a115a",
   "metadata": {},
   "source": [
    "# Import Data"
   ]
  },
  {
   "cell_type": "code",
   "execution_count": 2,
   "id": "d911e7dc",
   "metadata": {},
   "outputs": [],
   "source": [
    "data_ind_raw = pd.read_excel('Industry_Portfolios.xlsx')\n",
    "data_ind = data_ind_raw.drop(\"Date\", axis = 1)\n",
    "data_mkt_raw = pd.read_excel('Market_Portfolio.xlsx')\n",
    "data_mkt = data_mkt_raw.drop(\"Date\", axis = 1)"
   ]
  },
  {
   "cell_type": "markdown",
   "id": "61d9e95f",
   "metadata": {},
   "source": [
    "# Market Model (MM)"
   ]
  },
  {
   "cell_type": "code",
   "execution_count": 3,
   "id": "baef686c",
   "metadata": {},
   "outputs": [],
   "source": [
    "# risk-free rate\n",
    "Rf = 0.13"
   ]
  },
  {
   "cell_type": "code",
   "execution_count": 4,
   "id": "fcea43a9",
   "metadata": {},
   "outputs": [],
   "source": [
    "# industry excess returns (y variable)\n",
    "ind_excess = np.array(data_ind) - Rf"
   ]
  },
  {
   "cell_type": "code",
   "execution_count": 5,
   "id": "6a8d119c",
   "metadata": {},
   "outputs": [],
   "source": [
    "# market excess returns (x variable)\n",
    "mkt_excess = np.array(data_mkt) - Rf"
   ]
  },
  {
   "cell_type": "code",
   "execution_count": 6,
   "id": "c5596c96",
   "metadata": {
    "scrolled": false
   },
   "outputs": [],
   "source": [
    "# market model regression\n",
    "MM = LinearRegression().fit(mkt_excess ,ind_excess)\n",
    "MM_alpha = MM.intercept_\n",
    "MM_beta = MM.coef_"
   ]
  },
  {
   "cell_type": "code",
   "execution_count": 7,
   "id": "f11f7762",
   "metadata": {
    "scrolled": true
   },
   "outputs": [
    {
     "data": {
      "text/html": [
       "<div>\n",
       "<style scoped>\n",
       "    .dataframe tbody tr th:only-of-type {\n",
       "        vertical-align: middle;\n",
       "    }\n",
       "\n",
       "    .dataframe tbody tr th {\n",
       "        vertical-align: top;\n",
       "    }\n",
       "\n",
       "    .dataframe thead th {\n",
       "        text-align: right;\n",
       "    }\n",
       "</style>\n",
       "<table border=\"1\" class=\"dataframe\">\n",
       "  <thead>\n",
       "    <tr style=\"text-align: right;\">\n",
       "      <th></th>\n",
       "      <th>NoDur</th>\n",
       "      <th>Durbl</th>\n",
       "      <th>Manuf</th>\n",
       "      <th>Enrgy</th>\n",
       "      <th>HiTec</th>\n",
       "      <th>Telcm</th>\n",
       "      <th>Shops</th>\n",
       "      <th>Hlth</th>\n",
       "      <th>Utils</th>\n",
       "      <th>Other</th>\n",
       "    </tr>\n",
       "  </thead>\n",
       "  <tbody>\n",
       "    <tr>\n",
       "      <th>Intercept (α)</th>\n",
       "      <td>0.369443</td>\n",
       "      <td>-0.415599</td>\n",
       "      <td>0.159771</td>\n",
       "      <td>0.501719</td>\n",
       "      <td>-0.064020</td>\n",
       "      <td>0.194691</td>\n",
       "      <td>0.275492</td>\n",
       "      <td>0.237841</td>\n",
       "      <td>0.444585</td>\n",
       "      <td>-0.387135</td>\n",
       "    </tr>\n",
       "    <tr>\n",
       "      <th>Slope (β)</th>\n",
       "      <td>0.652647</td>\n",
       "      <td>1.648536</td>\n",
       "      <td>1.169846</td>\n",
       "      <td>0.969850</td>\n",
       "      <td>1.132969</td>\n",
       "      <td>0.900729</td>\n",
       "      <td>0.826492</td>\n",
       "      <td>0.673036</td>\n",
       "      <td>0.538086</td>\n",
       "      <td>1.207309</td>\n",
       "    </tr>\n",
       "  </tbody>\n",
       "</table>\n",
       "</div>"
      ],
      "text/plain": [
       "                  NoDur     Durbl     Manuf     Enrgy     HiTec     Telcm  \\\n",
       "Intercept (α)  0.369443 -0.415599  0.159771  0.501719 -0.064020  0.194691   \n",
       "Slope (β)      0.652647  1.648536  1.169846  0.969850  1.132969  0.900729   \n",
       "\n",
       "                  Shops      Hlth     Utils     Other  \n",
       "Intercept (α)  0.275492  0.237841  0.444585 -0.387135  \n",
       "Slope (β)      0.826492  0.673036  0.538086  1.207309  "
      ]
     },
     "execution_count": 7,
     "metadata": {},
     "output_type": "execute_result"
    }
   ],
   "source": [
    "# market model coefficients\n",
    "MM_coefficient = pd.DataFrame(np.concatenate((MM_alpha.reshape(1,10),MM_beta.reshape(1,10))),\n",
    "                              index = ['Intercept (α)','Slope (β)'],\n",
    "                              columns = data_ind.columns)\n",
    "MM_coefficient"
   ]
  },
  {
   "cell_type": "markdown",
   "id": "d8e27a14",
   "metadata": {},
   "source": [
    "# Capital Asset Pricing Model (CAPM)"
   ]
  },
  {
   "cell_type": "code",
   "execution_count": 8,
   "id": "616cc21c",
   "metadata": {
    "scrolled": false
   },
   "outputs": [
    {
     "data": {
      "text/plain": [
       "NoDur     0.902833\n",
       "Durbl     0.733333\n",
       "Manuf     1.012833\n",
       "Enrgy     1.231167\n",
       "HiTec     0.766250\n",
       "Telcm     0.881417\n",
       "Shops     0.916333\n",
       "Hlth      0.783833\n",
       "Utils     0.907167\n",
       "Other     0.489083\n",
       "Market    0.748083\n",
       "dtype: float64"
      ]
     },
     "execution_count": 8,
     "metadata": {},
     "output_type": "execute_result"
    }
   ],
   "source": [
    "# merge data\n",
    "data_merge = data_ind_raw.merge(data_mkt_raw)\n",
    "data_merge = data_merge.drop(\"Date\", axis = 1)\n",
    "\n",
    "# consolidated mean returns (y variable)\n",
    "consolidated_return = data_merge.mean(); consolidated_return"
   ]
  },
  {
   "cell_type": "code",
   "execution_count": 9,
   "id": "d9af35aa",
   "metadata": {},
   "outputs": [
    {
     "data": {
      "text/plain": [
       "NoDur     12.300096\n",
       "Durbl     31.069071\n",
       "Manuf     22.047469\n",
       "Enrgy     18.278244\n",
       "HiTec     21.352470\n",
       "Telcm     16.975563\n",
       "Shops     15.576461\n",
       "Hlth      12.684344\n",
       "Utils     10.141021\n",
       "Other     22.753517\n",
       "Market    18.846466\n",
       "Name: Market, dtype: float64"
      ]
     },
     "execution_count": 9,
     "metadata": {},
     "output_type": "execute_result"
    }
   ],
   "source": [
    "# market covariance matrix \n",
    "consolidated_cov = data_merge.cov(); consolidated_cov[\"Market\"]"
   ]
  },
  {
   "cell_type": "code",
   "execution_count": 10,
   "id": "2943519a",
   "metadata": {},
   "outputs": [
    {
     "data": {
      "text/plain": [
       "18.84646604341736"
      ]
     },
     "execution_count": 10,
     "metadata": {},
     "output_type": "execute_result"
    }
   ],
   "source": [
    "# market variance\n",
    "market_var = consolidated_cov.iloc[10,10]; market_var"
   ]
  },
  {
   "cell_type": "code",
   "execution_count": 11,
   "id": "99cb74f6",
   "metadata": {},
   "outputs": [
    {
     "data": {
      "text/html": [
       "<div>\n",
       "<style scoped>\n",
       "    .dataframe tbody tr th:only-of-type {\n",
       "        vertical-align: middle;\n",
       "    }\n",
       "\n",
       "    .dataframe tbody tr th {\n",
       "        vertical-align: top;\n",
       "    }\n",
       "\n",
       "    .dataframe thead th {\n",
       "        text-align: right;\n",
       "    }\n",
       "</style>\n",
       "<table border=\"1\" class=\"dataframe\">\n",
       "  <thead>\n",
       "    <tr style=\"text-align: right;\">\n",
       "      <th></th>\n",
       "      <th>Beta (β)</th>\n",
       "    </tr>\n",
       "  </thead>\n",
       "  <tbody>\n",
       "    <tr>\n",
       "      <th>NoDur</th>\n",
       "      <td>0.652647</td>\n",
       "    </tr>\n",
       "    <tr>\n",
       "      <th>Durbl</th>\n",
       "      <td>1.648536</td>\n",
       "    </tr>\n",
       "    <tr>\n",
       "      <th>Manuf</th>\n",
       "      <td>1.169846</td>\n",
       "    </tr>\n",
       "    <tr>\n",
       "      <th>Enrgy</th>\n",
       "      <td>0.969850</td>\n",
       "    </tr>\n",
       "    <tr>\n",
       "      <th>HiTec</th>\n",
       "      <td>1.132969</td>\n",
       "    </tr>\n",
       "    <tr>\n",
       "      <th>Telcm</th>\n",
       "      <td>0.900729</td>\n",
       "    </tr>\n",
       "    <tr>\n",
       "      <th>Shops</th>\n",
       "      <td>0.826492</td>\n",
       "    </tr>\n",
       "    <tr>\n",
       "      <th>Hlth</th>\n",
       "      <td>0.673036</td>\n",
       "    </tr>\n",
       "    <tr>\n",
       "      <th>Utils</th>\n",
       "      <td>0.538086</td>\n",
       "    </tr>\n",
       "    <tr>\n",
       "      <th>Other</th>\n",
       "      <td>1.207309</td>\n",
       "    </tr>\n",
       "    <tr>\n",
       "      <th>Market</th>\n",
       "      <td>1.000000</td>\n",
       "    </tr>\n",
       "  </tbody>\n",
       "</table>\n",
       "</div>"
      ],
      "text/plain": [
       "        Beta (β)\n",
       "NoDur   0.652647\n",
       "Durbl   1.648536\n",
       "Manuf   1.169846\n",
       "Enrgy   0.969850\n",
       "HiTec   1.132969\n",
       "Telcm   0.900729\n",
       "Shops   0.826492\n",
       "Hlth    0.673036\n",
       "Utils   0.538086\n",
       "Other   1.207309\n",
       "Market  1.000000"
      ]
     },
     "execution_count": 11,
     "metadata": {},
     "output_type": "execute_result"
    }
   ],
   "source": [
    "# consolidated beta (x variable)\n",
    "consolidated_beta = consolidated_cov[\"Market\"]/market_var\n",
    "consolidated_beta = pd.DataFrame(np.array(consolidated_beta),\n",
    "                                 columns=['Beta (β)'], \n",
    "                                 index = data_merge.columns)\n",
    "consolidated_beta"
   ]
  },
  {
   "cell_type": "code",
   "execution_count": 12,
   "id": "dd08b716",
   "metadata": {},
   "outputs": [],
   "source": [
    "# capital asset pricing model regression\n",
    "CAPM = LinearRegression().fit(consolidated_beta, consolidated_return)\n",
    "CAPM_alpha = CAPM.intercept_\n",
    "CAPM_beta = CAPM.coef_[0]"
   ]
  },
  {
   "cell_type": "code",
   "execution_count": 13,
   "id": "d88df1b6",
   "metadata": {},
   "outputs": [
    {
     "data": {
      "text/html": [
       "<div>\n",
       "<style scoped>\n",
       "    .dataframe tbody tr th:only-of-type {\n",
       "        vertical-align: middle;\n",
       "    }\n",
       "\n",
       "    .dataframe tbody tr th {\n",
       "        vertical-align: top;\n",
       "    }\n",
       "\n",
       "    .dataframe thead th {\n",
       "        text-align: right;\n",
       "    }\n",
       "</style>\n",
       "<table border=\"1\" class=\"dataframe\">\n",
       "  <thead>\n",
       "    <tr style=\"text-align: right;\">\n",
       "      <th></th>\n",
       "      <th>CAPM</th>\n",
       "    </tr>\n",
       "  </thead>\n",
       "  <tbody>\n",
       "    <tr>\n",
       "      <th>Intercept (α)</th>\n",
       "      <td>1.032768</td>\n",
       "    </tr>\n",
       "    <tr>\n",
       "      <th>Slope (β)</th>\n",
       "      <td>-0.185467</td>\n",
       "    </tr>\n",
       "  </tbody>\n",
       "</table>\n",
       "</div>"
      ],
      "text/plain": [
       "                   CAPM\n",
       "Intercept (α)  1.032768\n",
       "Slope (β)     -0.185467"
      ]
     },
     "execution_count": 13,
     "metadata": {},
     "output_type": "execute_result"
    }
   ],
   "source": [
    "# capital asset pricing model coefficients\n",
    "CAPM_coefficient = pd.DataFrame((CAPM_alpha, CAPM_beta), \n",
    "                                columns=[\"CAPM\"], \n",
    "                                index=[\"Intercept (α)\", \"Slope (β)\"])\n",
    "CAPM_coefficient"
   ]
  },
  {
   "cell_type": "markdown",
   "id": "4ea643a7",
   "metadata": {},
   "source": [
    "## Security Market Line (SML)"
   ]
  },
  {
   "cell_type": "code",
   "execution_count": 14,
   "id": "255c5b04",
   "metadata": {},
   "outputs": [
    {
     "data": {
      "text/plain": [
       "array([0., 1., 2.])"
      ]
     },
     "execution_count": 14,
     "metadata": {},
     "output_type": "execute_result"
    }
   ],
   "source": [
    "# security market line returns\n",
    "SML_return = np.arange(0, 2.01 , 1); SML_return"
   ]
  },
  {
   "cell_type": "code",
   "execution_count": 15,
   "id": "06c32e80",
   "metadata": {},
   "outputs": [
    {
     "data": {
      "text/plain": [
       "array([1.03276837, 0.84730091, 0.66183345])"
      ]
     },
     "execution_count": 15,
     "metadata": {},
     "output_type": "execute_result"
    }
   ],
   "source": [
    "#security market line beta\n",
    "SML_beta = CAPM_alpha + CAPM_beta*SML_return; SML_beta"
   ]
  },
  {
   "cell_type": "markdown",
   "id": "144339f8",
   "metadata": {},
   "source": [
    "## Plot the Security Market Line (SML)"
   ]
  },
  {
   "cell_type": "code",
   "execution_count": 16,
   "id": "d31402f9",
   "metadata": {},
   "outputs": [
    {
     "data": {
      "text/plain": [
       "<matplotlib.legend.Legend at 0x265595b3f10>"
      ]
     },
     "execution_count": 16,
     "metadata": {},
     "output_type": "execute_result"
    },
    {
     "data": {
      "image/png": "[encoded data removed]",
      "text/plain": [
       "<Figure size 1296x432 with 1 Axes>"
      ]
     },
     "metadata": {
      "needs_background": "light"
     },
     "output_type": "display_data"
    }
   ],
   "source": [
    "plt.figure(figsize = (18, 6))\n",
    "\n",
    "plt.scatter(consolidated_beta, consolidated_return)\n",
    "plt.plot(SML_return, SML_beta, label ='SML')\n",
    "\n",
    "plt.ylabel('Expected Return (%)')\n",
    "plt.xlabel('Beta (β)')\n",
    "plt.legend([\"Security Market Line\"], loc=2)"
   ]
  }
 ],
 "metadata": {
  "kernelspec": {
   "display_name": "Python 3 (ipykernel)",
   "language": "python",
   "name": "python3"
  },
  "language_info": {
   "codemirror_mode": {
    "name": "ipython",
    "version": 3
   },
   "file_extension": ".py",
   "mimetype": "text/x-python",
   "name": "python",
   "nbconvert_exporter": "python",
   "pygments_lexer": "ipython3",
   "version": "3.9.7"
  }
 },
 "nbformat": 4,
 "nbformat_minor": 5
}
