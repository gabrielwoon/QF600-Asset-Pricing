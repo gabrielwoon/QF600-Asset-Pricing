{
 "cells": [
  {
   "cell_type": "markdown",
   "id": "d269a74a",
   "metadata": {},
   "source": [
    "# QF600 Assignment 1"
   ]
  },
  {
   "cell_type": "markdown",
   "id": "977a618f",
   "metadata": {},
   "source": [
    "###### Prepared By:\n",
    "Gabriel Woon"
   ]
  },
  {
   "cell_type": "markdown",
   "id": "b85c0dbc",
   "metadata": {},
   "source": [
    "# Import Library"
   ]
  },
  {
   "cell_type": "code",
   "execution_count": 1,
   "id": "69c1dd92",
   "metadata": {},
   "outputs": [],
   "source": [
    "import pandas as pd\n",
    "import numpy as np\n",
    "import matplotlib.pyplot as plt\n",
    "\n",
    "import warnings\n",
    "warnings.filterwarnings(\"ignore\")"
   ]
  },
  {
   "cell_type": "markdown",
   "id": "e040905c",
   "metadata": {},
   "source": [
    "# Import Data"
   ]
  },
  {
   "cell_type": "code",
   "execution_count": 2,
   "id": "1b0690f4",
   "metadata": {},
   "outputs": [],
   "source": [
    "data = pd.read_excel('Industry_Portfolios.xlsx')\n",
    "data = data.drop('Date', axis=1)"
   ]
  },
  {
   "cell_type": "markdown",
   "id": "9b5760e2",
   "metadata": {},
   "source": [
    "# Key Statistics"
   ]
  },
  {
   "cell_type": "code",
   "execution_count": 3,
   "id": "89d183b9",
   "metadata": {
    "scrolled": true
   },
   "outputs": [
    {
     "data": {
      "text/plain": [
       "NoDur    0.902833\n",
       "Durbl    0.733333\n",
       "Manuf    1.012833\n",
       "Enrgy    1.231167\n",
       "HiTec    0.766250\n",
       "Telcm    0.881417\n",
       "Shops    0.916333\n",
       "Hlth     0.783833\n",
       "Utils    0.907167\n",
       "Other    0.489083\n",
       "dtype: float64"
      ]
     },
     "execution_count": 3,
     "metadata": {},
     "output_type": "execute_result"
    }
   ],
   "source": [
    "# mean returns \n",
    "muvec = data.mean(); muvec"
   ]
  },
  {
   "cell_type": "code",
   "execution_count": 4,
   "id": "2a501290",
   "metadata": {},
   "outputs": [
    {
     "data": {
      "text/plain": [
       "NoDur    3.345657\n",
       "Durbl    8.361852\n",
       "Manuf    5.310270\n",
       "Enrgy    6.081524\n",
       "HiTec    5.381191\n",
       "Telcm    4.448284\n",
       "Shops    4.093786\n",
       "Hlth     3.787172\n",
       "Utils    3.701763\n",
       "Other    5.582452\n",
       "dtype: float64"
      ]
     },
     "execution_count": 4,
     "metadata": {},
     "output_type": "execute_result"
    }
   ],
   "source": [
    "# standard deviation\n",
    "sigmavec = data.std(); sigmavec"
   ]
  },
  {
   "cell_type": "code",
   "execution_count": 5,
   "id": "b5dbe34b",
   "metadata": {},
   "outputs": [
    {
     "data": {
      "text/html": [
       "<div>\n",
       "<style scoped>\n",
       "    .dataframe tbody tr th:only-of-type {\n",
       "        vertical-align: middle;\n",
       "    }\n",
       "\n",
       "    .dataframe tbody tr th {\n",
       "        vertical-align: top;\n",
       "    }\n",
       "\n",
       "    .dataframe thead th {\n",
       "        text-align: right;\n",
       "    }\n",
       "</style>\n",
       "<table border=\"1\" class=\"dataframe\">\n",
       "  <thead>\n",
       "    <tr style=\"text-align: right;\">\n",
       "      <th></th>\n",
       "      <th>Mean Returns</th>\n",
       "      <th>Standard Deviation</th>\n",
       "    </tr>\n",
       "  </thead>\n",
       "  <tbody>\n",
       "    <tr>\n",
       "      <th>NoDur</th>\n",
       "      <td>0.902833</td>\n",
       "      <td>3.345657</td>\n",
       "    </tr>\n",
       "    <tr>\n",
       "      <th>Durbl</th>\n",
       "      <td>0.733333</td>\n",
       "      <td>8.361852</td>\n",
       "    </tr>\n",
       "    <tr>\n",
       "      <th>Manuf</th>\n",
       "      <td>1.012833</td>\n",
       "      <td>5.310270</td>\n",
       "    </tr>\n",
       "    <tr>\n",
       "      <th>Enrgy</th>\n",
       "      <td>1.231167</td>\n",
       "      <td>6.081524</td>\n",
       "    </tr>\n",
       "    <tr>\n",
       "      <th>HiTec</th>\n",
       "      <td>0.766250</td>\n",
       "      <td>5.381191</td>\n",
       "    </tr>\n",
       "    <tr>\n",
       "      <th>Telcm</th>\n",
       "      <td>0.881417</td>\n",
       "      <td>4.448284</td>\n",
       "    </tr>\n",
       "    <tr>\n",
       "      <th>Shops</th>\n",
       "      <td>0.916333</td>\n",
       "      <td>4.093786</td>\n",
       "    </tr>\n",
       "    <tr>\n",
       "      <th>Hlth</th>\n",
       "      <td>0.783833</td>\n",
       "      <td>3.787172</td>\n",
       "    </tr>\n",
       "    <tr>\n",
       "      <th>Utils</th>\n",
       "      <td>0.907167</td>\n",
       "      <td>3.701763</td>\n",
       "    </tr>\n",
       "    <tr>\n",
       "      <th>Other</th>\n",
       "      <td>0.489083</td>\n",
       "      <td>5.582452</td>\n",
       "    </tr>\n",
       "  </tbody>\n",
       "</table>\n",
       "</div>"
      ],
      "text/plain": [
       "       Mean Returns  Standard Deviation\n",
       "NoDur      0.902833            3.345657\n",
       "Durbl      0.733333            8.361852\n",
       "Manuf      1.012833            5.310270\n",
       "Enrgy      1.231167            6.081524\n",
       "HiTec      0.766250            5.381191\n",
       "Telcm      0.881417            4.448284\n",
       "Shops      0.916333            4.093786\n",
       "Hlth       0.783833            3.787172\n",
       "Utils      0.907167            3.701763\n",
       "Other      0.489083            5.582452"
      ]
     },
     "execution_count": 5,
     "metadata": {},
     "output_type": "execute_result"
    }
   ],
   "source": [
    "# mean & standard deviation summary\n",
    "pd.merge(pd.DataFrame(muvec,columns=[\"Mean Returns\"]),\n",
    "         pd.DataFrame(sigmavec,columns=[\"Standard Deviation\"]),\n",
    "         left_index=True, right_index=True)"
   ]
  },
  {
   "cell_type": "code",
   "execution_count": 6,
   "id": "a5e3c3c4",
   "metadata": {},
   "outputs": [
    {
     "data": {
      "text/html": [
       "<div>\n",
       "<style scoped>\n",
       "    .dataframe tbody tr th:only-of-type {\n",
       "        vertical-align: middle;\n",
       "    }\n",
       "\n",
       "    .dataframe tbody tr th {\n",
       "        vertical-align: top;\n",
       "    }\n",
       "\n",
       "    .dataframe thead th {\n",
       "        text-align: right;\n",
       "    }\n",
       "</style>\n",
       "<table border=\"1\" class=\"dataframe\">\n",
       "  <thead>\n",
       "    <tr style=\"text-align: right;\">\n",
       "      <th></th>\n",
       "      <th>NoDur</th>\n",
       "      <th>Durbl</th>\n",
       "      <th>Manuf</th>\n",
       "      <th>Enrgy</th>\n",
       "      <th>HiTec</th>\n",
       "      <th>Telcm</th>\n",
       "      <th>Shops</th>\n",
       "      <th>Hlth</th>\n",
       "      <th>Utils</th>\n",
       "      <th>Other</th>\n",
       "    </tr>\n",
       "  </thead>\n",
       "  <tbody>\n",
       "    <tr>\n",
       "      <th>NoDur</th>\n",
       "      <td>11.19342</td>\n",
       "      <td>18.44967</td>\n",
       "      <td>14.10491</td>\n",
       "      <td>10.53134</td>\n",
       "      <td>12.92295</td>\n",
       "      <td>11.96808</td>\n",
       "      <td>10.17083</td>\n",
       "      <td>9.95311</td>\n",
       "      <td>7.86665</td>\n",
       "      <td>14.43841</td>\n",
       "    </tr>\n",
       "    <tr>\n",
       "      <th>Durbl</th>\n",
       "      <td>18.44967</td>\n",
       "      <td>69.92058</td>\n",
       "      <td>39.17810</td>\n",
       "      <td>27.01979</td>\n",
       "      <td>35.46665</td>\n",
       "      <td>27.49054</td>\n",
       "      <td>27.44473</td>\n",
       "      <td>16.82400</td>\n",
       "      <td>12.74614</td>\n",
       "      <td>39.36199</td>\n",
       "    </tr>\n",
       "    <tr>\n",
       "      <th>Manuf</th>\n",
       "      <td>14.10491</td>\n",
       "      <td>39.17810</td>\n",
       "      <td>28.19897</td>\n",
       "      <td>23.14538</td>\n",
       "      <td>24.61874</td>\n",
       "      <td>19.55015</td>\n",
       "      <td>17.62287</td>\n",
       "      <td>13.59645</td>\n",
       "      <td>11.44061</td>\n",
       "      <td>26.31342</td>\n",
       "    </tr>\n",
       "    <tr>\n",
       "      <th>Enrgy</th>\n",
       "      <td>10.53134</td>\n",
       "      <td>27.01979</td>\n",
       "      <td>23.14538</td>\n",
       "      <td>36.98493</td>\n",
       "      <td>19.26728</td>\n",
       "      <td>15.36682</td>\n",
       "      <td>11.29780</td>\n",
       "      <td>9.63033</td>\n",
       "      <td>14.02717</td>\n",
       "      <td>18.32047</td>\n",
       "    </tr>\n",
       "    <tr>\n",
       "      <th>HiTec</th>\n",
       "      <td>12.92295</td>\n",
       "      <td>35.46665</td>\n",
       "      <td>24.61874</td>\n",
       "      <td>19.26728</td>\n",
       "      <td>28.95722</td>\n",
       "      <td>18.70827</td>\n",
       "      <td>17.83711</td>\n",
       "      <td>13.25406</td>\n",
       "      <td>10.30419</td>\n",
       "      <td>23.85547</td>\n",
       "    </tr>\n",
       "    <tr>\n",
       "      <th>Telcm</th>\n",
       "      <td>11.96808</td>\n",
       "      <td>27.49054</td>\n",
       "      <td>19.55015</td>\n",
       "      <td>15.36682</td>\n",
       "      <td>18.70827</td>\n",
       "      <td>19.78723</td>\n",
       "      <td>14.16936</td>\n",
       "      <td>11.50660</td>\n",
       "      <td>10.99160</td>\n",
       "      <td>19.61084</td>\n",
       "    </tr>\n",
       "    <tr>\n",
       "      <th>Shops</th>\n",
       "      <td>10.17083</td>\n",
       "      <td>27.44473</td>\n",
       "      <td>17.62287</td>\n",
       "      <td>11.29780</td>\n",
       "      <td>17.83711</td>\n",
       "      <td>14.16936</td>\n",
       "      <td>16.75908</td>\n",
       "      <td>10.17885</td>\n",
       "      <td>6.69435</td>\n",
       "      <td>19.22652</td>\n",
       "    </tr>\n",
       "    <tr>\n",
       "      <th>Hlth</th>\n",
       "      <td>9.95311</td>\n",
       "      <td>16.82400</td>\n",
       "      <td>13.59645</td>\n",
       "      <td>9.63033</td>\n",
       "      <td>13.25406</td>\n",
       "      <td>11.50660</td>\n",
       "      <td>10.17885</td>\n",
       "      <td>14.34267</td>\n",
       "      <td>7.47504</td>\n",
       "      <td>14.86455</td>\n",
       "    </tr>\n",
       "    <tr>\n",
       "      <th>Utils</th>\n",
       "      <td>7.86665</td>\n",
       "      <td>12.74614</td>\n",
       "      <td>11.44061</td>\n",
       "      <td>14.02717</td>\n",
       "      <td>10.30419</td>\n",
       "      <td>10.99160</td>\n",
       "      <td>6.69435</td>\n",
       "      <td>7.47504</td>\n",
       "      <td>13.70305</td>\n",
       "      <td>9.99296</td>\n",
       "    </tr>\n",
       "    <tr>\n",
       "      <th>Other</th>\n",
       "      <td>14.43841</td>\n",
       "      <td>39.36199</td>\n",
       "      <td>26.31342</td>\n",
       "      <td>18.32047</td>\n",
       "      <td>23.85547</td>\n",
       "      <td>19.61084</td>\n",
       "      <td>19.22652</td>\n",
       "      <td>14.86455</td>\n",
       "      <td>9.99296</td>\n",
       "      <td>31.16377</td>\n",
       "    </tr>\n",
       "  </tbody>\n",
       "</table>\n",
       "</div>"
      ],
      "text/plain": [
       "          NoDur     Durbl     Manuf     Enrgy     HiTec     Telcm     Shops  \\\n",
       "NoDur  11.19342  18.44967  14.10491  10.53134  12.92295  11.96808  10.17083   \n",
       "Durbl  18.44967  69.92058  39.17810  27.01979  35.46665  27.49054  27.44473   \n",
       "Manuf  14.10491  39.17810  28.19897  23.14538  24.61874  19.55015  17.62287   \n",
       "Enrgy  10.53134  27.01979  23.14538  36.98493  19.26728  15.36682  11.29780   \n",
       "HiTec  12.92295  35.46665  24.61874  19.26728  28.95722  18.70827  17.83711   \n",
       "Telcm  11.96808  27.49054  19.55015  15.36682  18.70827  19.78723  14.16936   \n",
       "Shops  10.17083  27.44473  17.62287  11.29780  17.83711  14.16936  16.75908   \n",
       "Hlth    9.95311  16.82400  13.59645   9.63033  13.25406  11.50660  10.17885   \n",
       "Utils   7.86665  12.74614  11.44061  14.02717  10.30419  10.99160   6.69435   \n",
       "Other  14.43841  39.36199  26.31342  18.32047  23.85547  19.61084  19.22652   \n",
       "\n",
       "           Hlth     Utils     Other  \n",
       "NoDur   9.95311   7.86665  14.43841  \n",
       "Durbl  16.82400  12.74614  39.36199  \n",
       "Manuf  13.59645  11.44061  26.31342  \n",
       "Enrgy   9.63033  14.02717  18.32047  \n",
       "HiTec  13.25406  10.30419  23.85547  \n",
       "Telcm  11.50660  10.99160  19.61084  \n",
       "Shops  10.17885   6.69435  19.22652  \n",
       "Hlth   14.34267   7.47504  14.86455  \n",
       "Utils   7.47504  13.70305   9.99296  \n",
       "Other  14.86455   9.99296  31.16377  "
      ]
     },
     "metadata": {},
     "output_type": "display_data"
    }
   ],
   "source": [
    "# covariance matrix\n",
    "cov = np.cov(data, rowvar=False)\n",
    "display(np.round(data.cov(), decimals=5))"
   ]
  },
  {
   "cell_type": "markdown",
   "id": "1ff05c39",
   "metadata": {},
   "source": [
    "# Variables"
   ]
  },
  {
   "cell_type": "code",
   "execution_count": 7,
   "id": "2872e6a9",
   "metadata": {
    "scrolled": true
   },
   "outputs": [],
   "source": [
    "# V-1 = inverse matrix of covariance\n",
    "vinv = np.linalg.inv(cov)\n",
    "\n",
    "# R = vector of mean returns \n",
    "muVEC = muvec\n",
    "\n",
    "# e = n x 1 vector of ones\n",
    "ones = np.ones(len(muvec))\n",
    "\n",
    "# delta = δ = e′V−1e\n",
    "delta = ones.T@vinv@ones\n",
    "\n",
    "# alpha = α = R′V−1e\n",
    "alpha = muVEC.T@vinv@ones\n",
    "\n",
    "# zeta = ζ = R′V−1R\n",
    "zeta = muvec.T@vinv@muvec\n",
    "\n",
    "# a = 1st unknown for weights \n",
    "a = (zeta*vinv@ones - alpha*vinv@muvec)/(zeta*delta-alpha**2)\n",
    "\n",
    "# b = 2nd unknown for weights\n",
    "b = (delta*vinv@muvec - alpha*vinv@ones)/(zeta*delta-alpha**2)"
   ]
  },
  {
   "cell_type": "markdown",
   "id": "c2f1e4e7",
   "metadata": {},
   "source": [
    "# Minimum Variance Portfolio (MV)"
   ]
  },
  {
   "cell_type": "code",
   "execution_count": 8,
   "id": "14f2d9e3",
   "metadata": {},
   "outputs": [
    {
     "data": {
      "text/plain": [
       "1.0040443340832625"
      ]
     },
     "execution_count": 8,
     "metadata": {},
     "output_type": "execute_result"
    }
   ],
   "source": [
    "# minimum variance portfolio returns\n",
    "muMV = alpha/delta; muMV"
   ]
  },
  {
   "cell_type": "code",
   "execution_count": 9,
   "id": "8c437a04",
   "metadata": {},
   "outputs": [
    {
     "data": {
      "text/plain": [
       "2.697902407534036"
      ]
     },
     "execution_count": 9,
     "metadata": {},
     "output_type": "execute_result"
    }
   ],
   "source": [
    "# minimum variance portfolio standard deviation\n",
    "sigmaMV = (1/delta)**0.5; sigmaMV"
   ]
  },
  {
   "cell_type": "code",
   "execution_count": 10,
   "id": "16372e1f",
   "metadata": {},
   "outputs": [
    {
     "data": {
      "text/html": [
       "<div>\n",
       "<style scoped>\n",
       "    .dataframe tbody tr th:only-of-type {\n",
       "        vertical-align: middle;\n",
       "    }\n",
       "\n",
       "    .dataframe tbody tr th {\n",
       "        vertical-align: top;\n",
       "    }\n",
       "\n",
       "    .dataframe thead th {\n",
       "        text-align: right;\n",
       "    }\n",
       "</style>\n",
       "<table border=\"1\" class=\"dataframe\">\n",
       "  <thead>\n",
       "    <tr style=\"text-align: right;\">\n",
       "      <th></th>\n",
       "      <th>NoDur</th>\n",
       "      <th>Durbl</th>\n",
       "      <th>Manuf</th>\n",
       "      <th>Enrgy</th>\n",
       "      <th>HiTec</th>\n",
       "      <th>Telcm</th>\n",
       "      <th>Shops</th>\n",
       "      <th>Hlth</th>\n",
       "      <th>Utils</th>\n",
       "      <th>Other</th>\n",
       "    </tr>\n",
       "  </thead>\n",
       "  <tbody>\n",
       "    <tr>\n",
       "      <th>Weights</th>\n",
       "      <td>0.543536</td>\n",
       "      <td>-0.109556</td>\n",
       "      <td>-0.15107</td>\n",
       "      <td>0.066282</td>\n",
       "      <td>-0.073712</td>\n",
       "      <td>-0.149203</td>\n",
       "      <td>0.589276</td>\n",
       "      <td>0.142921</td>\n",
       "      <td>0.315347</td>\n",
       "      <td>-0.173823</td>\n",
       "    </tr>\n",
       "  </tbody>\n",
       "</table>\n",
       "</div>"
      ],
      "text/plain": [
       "            NoDur     Durbl    Manuf     Enrgy     HiTec     Telcm     Shops  \\\n",
       "Weights  0.543536 -0.109556 -0.15107  0.066282 -0.073712 -0.149203  0.589276   \n",
       "\n",
       "             Hlth     Utils     Other  \n",
       "Weights  0.142921  0.315347 -0.173823  "
      ]
     },
     "metadata": {},
     "output_type": "display_data"
    }
   ],
   "source": [
    "# minimum variance portfolio weights\n",
    "wMV = a+b*muMV\n",
    "display(pd.DataFrame(wMV.reshape(1,10), index=[\"Weights\"], columns=data.columns))"
   ]
  },
  {
   "cell_type": "markdown",
   "id": "064bcf9c",
   "metadata": {},
   "source": [
    "# Minimum Variance Frontier (MVF)"
   ]
  },
  {
   "cell_type": "code",
   "execution_count": 11,
   "id": "dac5f78f",
   "metadata": {
    "scrolled": true
   },
   "outputs": [
    {
     "data": {
      "text/plain": [
       "array([0. , 0.1, 0.2, 0.3, 0.4, 0.5, 0.6, 0.7, 0.8, 0.9, 1. , 1.1, 1.2,\n",
       "       1.3, 1.4, 1.5, 1.6, 1.7, 1.8, 1.9, 2. ])"
      ]
     },
     "execution_count": 11,
     "metadata": {},
     "output_type": "execute_result"
    }
   ],
   "source": [
    "# minimum variance frontier portfolios returns\n",
    "muMVF = np.arange(0, 2.01 , 0.1); muMVF"
   ]
  },
  {
   "cell_type": "code",
   "execution_count": 12,
   "id": "2f4e583d",
   "metadata": {
    "scrolled": true
   },
   "outputs": [
    {
     "data": {
      "text/plain": [
       "array([4.96865933, 4.62520378, 4.29451081, 3.97976317, 3.68504889,\n",
       "       3.41555771, 3.17771336, 2.97910534, 2.82801233, 2.73232821,\n",
       "       2.69795476, 2.7272112 , 2.81811651, 2.96500574, 3.16008166,\n",
       "       3.39504812, 3.66223513, 3.9551181 , 4.26841081, 4.59794314,\n",
       "       4.94046659])"
      ]
     },
     "execution_count": 12,
     "metadata": {},
     "output_type": "execute_result"
    }
   ],
   "source": [
    "# minimum variance frontier portfolios standard deviation\n",
    "sigmaMVF = ((1/delta)+(delta/(zeta*delta-alpha**2))*(muMVF-muMV)**2)**0.5; sigmaMVF"
   ]
  },
  {
   "cell_type": "code",
   "execution_count": 13,
   "id": "b0a941f3",
   "metadata": {},
   "outputs": [
    {
     "data": {
      "text/html": [
       "<div>\n",
       "<style scoped>\n",
       "    .dataframe tbody tr th:only-of-type {\n",
       "        vertical-align: middle;\n",
       "    }\n",
       "\n",
       "    .dataframe tbody tr th {\n",
       "        vertical-align: top;\n",
       "    }\n",
       "\n",
       "    .dataframe thead th {\n",
       "        text-align: right;\n",
       "    }\n",
       "</style>\n",
       "<table border=\"1\" class=\"dataframe\">\n",
       "  <thead>\n",
       "    <tr style=\"text-align: right;\">\n",
       "      <th></th>\n",
       "      <th>Returns</th>\n",
       "      <th>Standard Deviation</th>\n",
       "    </tr>\n",
       "  </thead>\n",
       "  <tbody>\n",
       "    <tr>\n",
       "      <th>0</th>\n",
       "      <td>0.0</td>\n",
       "      <td>4.968659</td>\n",
       "    </tr>\n",
       "    <tr>\n",
       "      <th>1</th>\n",
       "      <td>0.1</td>\n",
       "      <td>4.625204</td>\n",
       "    </tr>\n",
       "    <tr>\n",
       "      <th>2</th>\n",
       "      <td>0.2</td>\n",
       "      <td>4.294511</td>\n",
       "    </tr>\n",
       "    <tr>\n",
       "      <th>3</th>\n",
       "      <td>0.3</td>\n",
       "      <td>3.979763</td>\n",
       "    </tr>\n",
       "    <tr>\n",
       "      <th>4</th>\n",
       "      <td>0.4</td>\n",
       "      <td>3.685049</td>\n",
       "    </tr>\n",
       "    <tr>\n",
       "      <th>5</th>\n",
       "      <td>0.5</td>\n",
       "      <td>3.415558</td>\n",
       "    </tr>\n",
       "    <tr>\n",
       "      <th>6</th>\n",
       "      <td>0.6</td>\n",
       "      <td>3.177713</td>\n",
       "    </tr>\n",
       "    <tr>\n",
       "      <th>7</th>\n",
       "      <td>0.7</td>\n",
       "      <td>2.979105</td>\n",
       "    </tr>\n",
       "    <tr>\n",
       "      <th>8</th>\n",
       "      <td>0.8</td>\n",
       "      <td>2.828012</td>\n",
       "    </tr>\n",
       "    <tr>\n",
       "      <th>9</th>\n",
       "      <td>0.9</td>\n",
       "      <td>2.732328</td>\n",
       "    </tr>\n",
       "    <tr>\n",
       "      <th>10</th>\n",
       "      <td>1.0</td>\n",
       "      <td>2.697955</td>\n",
       "    </tr>\n",
       "    <tr>\n",
       "      <th>11</th>\n",
       "      <td>1.1</td>\n",
       "      <td>2.727211</td>\n",
       "    </tr>\n",
       "    <tr>\n",
       "      <th>12</th>\n",
       "      <td>1.2</td>\n",
       "      <td>2.818117</td>\n",
       "    </tr>\n",
       "    <tr>\n",
       "      <th>13</th>\n",
       "      <td>1.3</td>\n",
       "      <td>2.965006</td>\n",
       "    </tr>\n",
       "    <tr>\n",
       "      <th>14</th>\n",
       "      <td>1.4</td>\n",
       "      <td>3.160082</td>\n",
       "    </tr>\n",
       "    <tr>\n",
       "      <th>15</th>\n",
       "      <td>1.5</td>\n",
       "      <td>3.395048</td>\n",
       "    </tr>\n",
       "    <tr>\n",
       "      <th>16</th>\n",
       "      <td>1.6</td>\n",
       "      <td>3.662235</td>\n",
       "    </tr>\n",
       "    <tr>\n",
       "      <th>17</th>\n",
       "      <td>1.7</td>\n",
       "      <td>3.955118</td>\n",
       "    </tr>\n",
       "    <tr>\n",
       "      <th>18</th>\n",
       "      <td>1.8</td>\n",
       "      <td>4.268411</td>\n",
       "    </tr>\n",
       "    <tr>\n",
       "      <th>19</th>\n",
       "      <td>1.9</td>\n",
       "      <td>4.597943</td>\n",
       "    </tr>\n",
       "    <tr>\n",
       "      <th>20</th>\n",
       "      <td>2.0</td>\n",
       "      <td>4.940467</td>\n",
       "    </tr>\n",
       "  </tbody>\n",
       "</table>\n",
       "</div>"
      ],
      "text/plain": [
       "    Returns  Standard Deviation\n",
       "0       0.0            4.968659\n",
       "1       0.1            4.625204\n",
       "2       0.2            4.294511\n",
       "3       0.3            3.979763\n",
       "4       0.4            3.685049\n",
       "5       0.5            3.415558\n",
       "6       0.6            3.177713\n",
       "7       0.7            2.979105\n",
       "8       0.8            2.828012\n",
       "9       0.9            2.732328\n",
       "10      1.0            2.697955\n",
       "11      1.1            2.727211\n",
       "12      1.2            2.818117\n",
       "13      1.3            2.965006\n",
       "14      1.4            3.160082\n",
       "15      1.5            3.395048\n",
       "16      1.6            3.662235\n",
       "17      1.7            3.955118\n",
       "18      1.8            4.268411\n",
       "19      1.9            4.597943\n",
       "20      2.0            4.940467"
      ]
     },
     "execution_count": 13,
     "metadata": {},
     "output_type": "execute_result"
    }
   ],
   "source": [
    "# minimum variance frontier data points\n",
    "pd.set_option('display.max_rows', None, 'display.max_columns', None)\n",
    "pd.concat((pd.DataFrame(muMVF, columns=[\"Returns\"]), \n",
    "           pd.DataFrame(sigmaMVF, columns=[\"Standard Deviation\"])), \n",
    "           axis = 1)"
   ]
  },
  {
   "cell_type": "markdown",
   "id": "ea5cbe4d",
   "metadata": {},
   "source": [
    "## Plot the Minimum Variance Portfolio (MV) & Minimum Variance Frontier (MVF)"
   ]
  },
  {
   "cell_type": "code",
   "execution_count": 14,
   "id": "a87c3837",
   "metadata": {},
   "outputs": [
    {
     "data": {
      "text/plain": [
       "<matplotlib.legend.Legend at 0x1cdaacacee0>"
      ]
     },
     "execution_count": 14,
     "metadata": {},
     "output_type": "execute_result"
    },
    {
     "data": {
      "image/png": "[encoded data removed]",
      "text/plain": [
       "<Figure size 1296x432 with 1 Axes>"
      ]
     },
     "metadata": {
      "needs_background": "light"
     },
     "output_type": "display_data"
    }
   ],
   "source": [
    "plt.figure(figsize = (18, 6))\n",
    "\n",
    "plt.plot(sigmaMVF, muMVF, 'xkcd:faded blue')\n",
    "plt.plot(sigmaMV, muMV, 'bo')\n",
    "\n",
    "plt.ylabel('Expected Return (%)')\n",
    "plt.xlabel('Standard Deviation (%)')\n",
    "plt.legend([\"Minimum Variance Frontier\"], loc=2)"
   ]
  },
  {
   "cell_type": "markdown",
   "id": "3038a3cd",
   "metadata": {},
   "source": [
    "# Tangency Portfolio (TAN)"
   ]
  },
  {
   "cell_type": "code",
   "execution_count": 15,
   "id": "ad181a48",
   "metadata": {},
   "outputs": [],
   "source": [
    "# risk free rate\n",
    "Rf = 0.13"
   ]
  },
  {
   "cell_type": "code",
   "execution_count": 16,
   "id": "94abbf8d",
   "metadata": {},
   "outputs": [
    {
     "data": {
      "text/plain": [
       "1.4862735358446901"
      ]
     },
     "execution_count": 16,
     "metadata": {},
     "output_type": "execute_result"
    }
   ],
   "source": [
    "# tangency portfolio returns\n",
    "muTAN = ((alpha*Rf)-zeta)/((delta*Rf)-alpha); muTAN"
   ]
  },
  {
   "cell_type": "code",
   "execution_count": 17,
   "id": "feb711da",
   "metadata": {},
   "outputs": [
    {
     "data": {
      "text/plain": [
       "3.360726330566364"
      ]
     },
     "execution_count": 17,
     "metadata": {},
     "output_type": "execute_result"
    }
   ],
   "source": [
    "# tangency portfolio standard deviation\n",
    "sigmaTAN = -(zeta-2*alpha*Rf+(delta*Rf**2))**0.5/(delta*(Rf-muMV)); sigmaTAN"
   ]
  },
  {
   "cell_type": "code",
   "execution_count": 18,
   "id": "94bdb674",
   "metadata": {},
   "outputs": [
    {
     "data": {
      "text/html": [
       "<div>\n",
       "<style scoped>\n",
       "    .dataframe tbody tr th:only-of-type {\n",
       "        vertical-align: middle;\n",
       "    }\n",
       "\n",
       "    .dataframe tbody tr th {\n",
       "        vertical-align: top;\n",
       "    }\n",
       "\n",
       "    .dataframe thead th {\n",
       "        text-align: right;\n",
       "    }\n",
       "</style>\n",
       "<table border=\"1\" class=\"dataframe\">\n",
       "  <thead>\n",
       "    <tr style=\"text-align: right;\">\n",
       "      <th></th>\n",
       "      <th>NoDur</th>\n",
       "      <th>Durbl</th>\n",
       "      <th>Manuf</th>\n",
       "      <th>Enrgy</th>\n",
       "      <th>HiTec</th>\n",
       "      <th>Telcm</th>\n",
       "      <th>Shops</th>\n",
       "      <th>Hlth</th>\n",
       "      <th>Utils</th>\n",
       "      <th>Other</th>\n",
       "    </tr>\n",
       "  </thead>\n",
       "  <tbody>\n",
       "    <tr>\n",
       "      <th>Weights</th>\n",
       "      <td>0.567972</td>\n",
       "      <td>-0.214073</td>\n",
       "      <td>0.714105</td>\n",
       "      <td>0.104087</td>\n",
       "      <td>-0.363438</td>\n",
       "      <td>-0.095463</td>\n",
       "      <td>0.991647</td>\n",
       "      <td>0.07557</td>\n",
       "      <td>0.132643</td>\n",
       "      <td>-0.913051</td>\n",
       "    </tr>\n",
       "  </tbody>\n",
       "</table>\n",
       "</div>"
      ],
      "text/plain": [
       "            NoDur     Durbl     Manuf     Enrgy     HiTec     Telcm     Shops  \\\n",
       "Weights  0.567972 -0.214073  0.714105  0.104087 -0.363438 -0.095463  0.991647   \n",
       "\n",
       "            Hlth     Utils     Other  \n",
       "Weights  0.07557  0.132643 -0.913051  "
      ]
     },
     "metadata": {},
     "output_type": "display_data"
    }
   ],
   "source": [
    "#tangency portfolio weights\n",
    "wTAN = a+b*muTAN\n",
    "display(pd.DataFrame(wTAN.reshape(1,10), index=[\"Weights\"], columns=data.columns))"
   ]
  },
  {
   "cell_type": "code",
   "execution_count": 19,
   "id": "6ca1768f",
   "metadata": {},
   "outputs": [
    {
     "data": {
      "text/plain": [
       "0.4035655993495088"
      ]
     },
     "execution_count": 19,
     "metadata": {},
     "output_type": "execute_result"
    }
   ],
   "source": [
    "# tangency portfolio sharpe ratio\n",
    "srTAN = (zeta-2*alpha*Rf+delta*Rf**2)**0.5 ; srTAN"
   ]
  },
  {
   "cell_type": "markdown",
   "id": "6d3b2772",
   "metadata": {},
   "source": [
    "# Efficient Frontier (EF)"
   ]
  },
  {
   "cell_type": "code",
   "execution_count": 20,
   "id": "34a63d49",
   "metadata": {
    "scrolled": true
   },
   "outputs": [
    {
     "data": {
      "text/plain": [
       "array([0.2, 0.3, 0.4, 0.5, 0.6, 0.7, 0.8, 0.9, 1. , 1.1, 1.2, 1.3, 1.4,\n",
       "       1.5, 1.6, 1.7, 1.8, 1.9, 2. ])"
      ]
     },
     "execution_count": 20,
     "metadata": {},
     "output_type": "execute_result"
    }
   ],
   "source": [
    "# efficient frontier portfolios returns\n",
    "muEF = muMVF[muMVF>=Rf]; muEF"
   ]
  },
  {
   "cell_type": "code",
   "execution_count": 21,
   "id": "b288877e",
   "metadata": {
    "scrolled": true
   },
   "outputs": [
    {
     "data": {
      "text/plain": [
       "array([0.17345383, 0.42124502, 0.66903621, 0.9168274 , 1.16461859,\n",
       "       1.41240978, 1.66020097, 1.90799216, 2.15578335, 2.40357454,\n",
       "       2.65136573, 2.89915692, 3.14694811, 3.3947393 , 3.64253049,\n",
       "       3.89032168, 4.13811287, 4.38590406, 4.63369525])"
      ]
     },
     "execution_count": 21,
     "metadata": {},
     "output_type": "execute_result"
    }
   ],
   "source": [
    "# efficient frontier portfolios standard deviation\n",
    "sigmaEF = ((muEF-Rf)**2/(zeta-2*alpha*Rf+delta*Rf**2))**0.5; sigmaEF"
   ]
  },
  {
   "cell_type": "code",
   "execution_count": 22,
   "id": "c295fcff",
   "metadata": {},
   "outputs": [
    {
     "data": {
      "text/html": [
       "<div>\n",
       "<style scoped>\n",
       "    .dataframe tbody tr th:only-of-type {\n",
       "        vertical-align: middle;\n",
       "    }\n",
       "\n",
       "    .dataframe tbody tr th {\n",
       "        vertical-align: top;\n",
       "    }\n",
       "\n",
       "    .dataframe thead th {\n",
       "        text-align: right;\n",
       "    }\n",
       "</style>\n",
       "<table border=\"1\" class=\"dataframe\">\n",
       "  <thead>\n",
       "    <tr style=\"text-align: right;\">\n",
       "      <th></th>\n",
       "      <th>Returns</th>\n",
       "      <th>Standard Deviation</th>\n",
       "    </tr>\n",
       "  </thead>\n",
       "  <tbody>\n",
       "    <tr>\n",
       "      <th>0</th>\n",
       "      <td>0.2</td>\n",
       "      <td>0.173454</td>\n",
       "    </tr>\n",
       "    <tr>\n",
       "      <th>1</th>\n",
       "      <td>0.3</td>\n",
       "      <td>0.421245</td>\n",
       "    </tr>\n",
       "    <tr>\n",
       "      <th>2</th>\n",
       "      <td>0.4</td>\n",
       "      <td>0.669036</td>\n",
       "    </tr>\n",
       "    <tr>\n",
       "      <th>3</th>\n",
       "      <td>0.5</td>\n",
       "      <td>0.916827</td>\n",
       "    </tr>\n",
       "    <tr>\n",
       "      <th>4</th>\n",
       "      <td>0.6</td>\n",
       "      <td>1.164619</td>\n",
       "    </tr>\n",
       "    <tr>\n",
       "      <th>5</th>\n",
       "      <td>0.7</td>\n",
       "      <td>1.412410</td>\n",
       "    </tr>\n",
       "    <tr>\n",
       "      <th>6</th>\n",
       "      <td>0.8</td>\n",
       "      <td>1.660201</td>\n",
       "    </tr>\n",
       "    <tr>\n",
       "      <th>7</th>\n",
       "      <td>0.9</td>\n",
       "      <td>1.907992</td>\n",
       "    </tr>\n",
       "    <tr>\n",
       "      <th>8</th>\n",
       "      <td>1.0</td>\n",
       "      <td>2.155783</td>\n",
       "    </tr>\n",
       "    <tr>\n",
       "      <th>9</th>\n",
       "      <td>1.1</td>\n",
       "      <td>2.403575</td>\n",
       "    </tr>\n",
       "    <tr>\n",
       "      <th>10</th>\n",
       "      <td>1.2</td>\n",
       "      <td>2.651366</td>\n",
       "    </tr>\n",
       "    <tr>\n",
       "      <th>11</th>\n",
       "      <td>1.3</td>\n",
       "      <td>2.899157</td>\n",
       "    </tr>\n",
       "    <tr>\n",
       "      <th>12</th>\n",
       "      <td>1.4</td>\n",
       "      <td>3.146948</td>\n",
       "    </tr>\n",
       "    <tr>\n",
       "      <th>13</th>\n",
       "      <td>1.5</td>\n",
       "      <td>3.394739</td>\n",
       "    </tr>\n",
       "    <tr>\n",
       "      <th>14</th>\n",
       "      <td>1.6</td>\n",
       "      <td>3.642530</td>\n",
       "    </tr>\n",
       "    <tr>\n",
       "      <th>15</th>\n",
       "      <td>1.7</td>\n",
       "      <td>3.890322</td>\n",
       "    </tr>\n",
       "    <tr>\n",
       "      <th>16</th>\n",
       "      <td>1.8</td>\n",
       "      <td>4.138113</td>\n",
       "    </tr>\n",
       "    <tr>\n",
       "      <th>17</th>\n",
       "      <td>1.9</td>\n",
       "      <td>4.385904</td>\n",
       "    </tr>\n",
       "    <tr>\n",
       "      <th>18</th>\n",
       "      <td>2.0</td>\n",
       "      <td>4.633695</td>\n",
       "    </tr>\n",
       "  </tbody>\n",
       "</table>\n",
       "</div>"
      ],
      "text/plain": [
       "    Returns  Standard Deviation\n",
       "0       0.2            0.173454\n",
       "1       0.3            0.421245\n",
       "2       0.4            0.669036\n",
       "3       0.5            0.916827\n",
       "4       0.6            1.164619\n",
       "5       0.7            1.412410\n",
       "6       0.8            1.660201\n",
       "7       0.9            1.907992\n",
       "8       1.0            2.155783\n",
       "9       1.1            2.403575\n",
       "10      1.2            2.651366\n",
       "11      1.3            2.899157\n",
       "12      1.4            3.146948\n",
       "13      1.5            3.394739\n",
       "14      1.6            3.642530\n",
       "15      1.7            3.890322\n",
       "16      1.8            4.138113\n",
       "17      1.9            4.385904\n",
       "18      2.0            4.633695"
      ]
     },
     "execution_count": 22,
     "metadata": {},
     "output_type": "execute_result"
    }
   ],
   "source": [
    "# efficient frontier portfolios data points\n",
    "pd.set_option('display.max_rows', None, 'display.max_columns', None)\n",
    "pd.concat((pd.DataFrame(muEF, columns=[\"Returns\"]), \n",
    "           pd.DataFrame(sigmaEF, columns=[\"Standard Deviation\"])), \n",
    "           axis = 1)"
   ]
  },
  {
   "cell_type": "markdown",
   "id": "23bc17b5",
   "metadata": {},
   "source": [
    "## Plot the Tangency Portfolio (T) & Efficient Frontier (EF)"
   ]
  },
  {
   "cell_type": "code",
   "execution_count": 23,
   "id": "d5652a76",
   "metadata": {},
   "outputs": [
    {
     "data": {
      "text/plain": [
       "<matplotlib.legend.Legend at 0x1cdaad41c10>"
      ]
     },
     "execution_count": 23,
     "metadata": {},
     "output_type": "execute_result"
    },
    {
     "data": {
      "image/png": "[encoded data removed]",
      "text/plain": [
       "<Figure size 1296x432 with 1 Axes>"
      ]
     },
     "metadata": {
      "needs_background": "light"
     },
     "output_type": "display_data"
    }
   ],
   "source": [
    "plt.figure(figsize = (18, 6))\n",
    "plt.plot(sigmaMVF, muMVF,'xkcd:faded blue')\n",
    "plt.plot(sigmaEF, muEF,'xkcd:faded red')\n",
    "plt.plot(sigmaMV, muMV,'bo')\n",
    "plt.plot(sigmaTAN, muTAN, 'ro')\n",
    "\n",
    "plt.ylabel('Expected Return (%)')\n",
    "plt.xlabel('Standard Deviation (%)')\n",
    "plt.legend([\"Minimum Variance Frontier\", \"Efficient Frontier\"], loc=2)"
   ]
  }
 ],
 "metadata": {
  "kernelspec": {
   "display_name": "Python 3 (ipykernel)",
   "language": "python",
   "name": "python3"
  },
  "language_info": {
   "codemirror_mode": {
    "name": "ipython",
    "version": 3
   },
   "file_extension": ".py",
   "mimetype": "text/x-python",
   "name": "python",
   "nbconvert_exporter": "python",
   "pygments_lexer": "ipython3",
   "version": "3.9.7"
  }
 },
 "nbformat": 4,
 "nbformat_minor": 5
}
