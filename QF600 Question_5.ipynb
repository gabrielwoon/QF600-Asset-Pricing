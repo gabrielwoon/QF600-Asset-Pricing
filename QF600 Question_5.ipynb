{
 "cells": [
  {
   "cell_type": "markdown",
   "id": "c4d2325d",
   "metadata": {},
   "source": [
    "# QF600 Question 5"
   ]
  },
  {
   "cell_type": "markdown",
   "id": "061b3e5b",
   "metadata": {},
   "source": [
    "###### Prepared By:\n",
    "Gabriel Woon"
   ]
  },
  {
   "cell_type": "markdown",
   "id": "94635a47",
   "metadata": {},
   "source": [
    "# Import Library"
   ]
  },
  {
   "cell_type": "code",
   "execution_count": 1,
   "id": "2dac9996",
   "metadata": {},
   "outputs": [],
   "source": [
    "import numpy as np\n",
    "import pandas as pd\n",
    "import matplotlib.pyplot as plt"
   ]
  },
  {
   "cell_type": "markdown",
   "id": "bfba7611",
   "metadata": {},
   "source": [
    "# Consumption Growth"
   ]
  },
  {
   "cell_type": "code",
   "execution_count": 2,
   "id": "a829f5d3",
   "metadata": {},
   "outputs": [],
   "source": [
    "# consumption growth (g = e^(0.02 + 0.02ϵ + ν))\n",
    "simulation = 100000\n",
    "consumption_growth = np.zeros(simulation)\n",
    "for i in range(simulation):\n",
    "    epsilon = np.random.standard_normal()\n",
    "    prob_nu = np.random.uniform(0,1)\n",
    "    if prob_nu <0.017:\n",
    "        nu = np.log(0.65)\n",
    "    else:\n",
    "        nu = 0\n",
    "    consumption_growth[i] = np.exp(0.02 + 0.02*epsilon + nu)"
   ]
  },
  {
   "cell_type": "markdown",
   "id": "636522fb",
   "metadata": {},
   "source": [
    "# Parameters"
   ]
  },
  {
   "cell_type": "code",
   "execution_count": 3,
   "id": "f14db8cc",
   "metadata": {},
   "outputs": [
    {
     "data": {
      "text/plain": [
       "array([0.  , 0.05, 0.1 , 0.15, 0.2 , 0.25, 0.3 , 0.35, 0.4 , 0.45, 0.5 ,\n",
       "       0.55, 0.6 , 0.65, 0.7 , 0.75, 0.8 , 0.85, 0.9 , 0.95, 1.  , 1.05,\n",
       "       1.1 , 1.15, 1.2 , 1.25, 1.3 , 1.35, 1.4 , 1.45, 1.5 , 1.55, 1.6 ,\n",
       "       1.65, 1.7 , 1.75, 1.8 , 1.85, 1.9 , 1.95, 2.  , 2.05, 2.1 , 2.15,\n",
       "       2.2 , 2.25, 2.3 , 2.35, 2.4 , 2.45, 2.5 , 2.55, 2.6 , 2.65, 2.7 ,\n",
       "       2.75, 2.8 , 2.85, 2.9 , 2.95, 3.  , 3.05, 3.1 , 3.15, 3.2 , 3.25,\n",
       "       3.3 , 3.35, 3.4 , 3.45, 3.5 , 3.55, 3.6 , 3.65, 3.7 , 3.75, 3.8 ,\n",
       "       3.85, 3.9 , 3.95, 4.  ])"
      ]
     },
     "execution_count": 3,
     "metadata": {},
     "output_type": "execute_result"
    }
   ],
   "source": [
    "# subjective discount factor\n",
    "delta = 0.99\n",
    "\n",
    "# gamma\n",
    "gamma = np.arange(0, 4.05, 0.05); gamma"
   ]
  },
  {
   "cell_type": "markdown",
   "id": "47edeb1d",
   "metadata": {},
   "source": [
    "# Pricing Kernal"
   ]
  },
  {
   "cell_type": "code",
   "execution_count": 4,
   "id": "7ae35516",
   "metadata": {},
   "outputs": [],
   "source": [
    "# pricing kernal (M = delta ∗ g ** −γ)\n",
    "mu_M = []\n",
    "sigma_M = []\n",
    "\n",
    "for i in gamma:\n",
    "    price_kernel = delta * (consumption_growth**(-i))\n",
    "    mean = np.mean(price_kernel)\n",
    "    std = np.std(price_kernel)\n",
    "    \n",
    "    mu_M.append(mean)\n",
    "    sigma_M.append(std)"
   ]
  },
  {
   "cell_type": "code",
   "execution_count": 5,
   "id": "485ad59f",
   "metadata": {},
   "outputs": [
    {
     "data": {
      "text/html": [
       "<div>\n",
       "<style scoped>\n",
       "    .dataframe tbody tr th:only-of-type {\n",
       "        vertical-align: middle;\n",
       "    }\n",
       "\n",
       "    .dataframe tbody tr th {\n",
       "        vertical-align: top;\n",
       "    }\n",
       "\n",
       "    .dataframe thead th {\n",
       "        text-align: right;\n",
       "    }\n",
       "</style>\n",
       "<table border=\"1\" class=\"dataframe\">\n",
       "  <thead>\n",
       "    <tr style=\"text-align: right;\">\n",
       "      <th></th>\n",
       "      <th>mu_M</th>\n",
       "      <th>sigma_M</th>\n",
       "      <th>sigma/mu</th>\n",
       "    </tr>\n",
       "  </thead>\n",
       "  <tbody>\n",
       "    <tr>\n",
       "      <th>0.00</th>\n",
       "      <td>0.990000</td>\n",
       "      <td>0.000000</td>\n",
       "      <td>0.000000</td>\n",
       "    </tr>\n",
       "    <tr>\n",
       "      <th>0.05</th>\n",
       "      <td>0.989399</td>\n",
       "      <td>0.003036</td>\n",
       "      <td>0.003069</td>\n",
       "    </tr>\n",
       "    <tr>\n",
       "      <th>0.10</th>\n",
       "      <td>0.988809</td>\n",
       "      <td>0.006125</td>\n",
       "      <td>0.006195</td>\n",
       "    </tr>\n",
       "    <tr>\n",
       "      <th>0.15</th>\n",
       "      <td>0.988227</td>\n",
       "      <td>0.009269</td>\n",
       "      <td>0.009380</td>\n",
       "    </tr>\n",
       "    <tr>\n",
       "      <th>0.20</th>\n",
       "      <td>0.987656</td>\n",
       "      <td>0.012469</td>\n",
       "      <td>0.012624</td>\n",
       "    </tr>\n",
       "    <tr>\n",
       "      <th>...</th>\n",
       "      <td>...</td>\n",
       "      <td>...</td>\n",
       "      <td>...</td>\n",
       "    </tr>\n",
       "    <tr>\n",
       "      <th>3.80</th>\n",
       "      <td>0.989026</td>\n",
       "      <td>0.514614</td>\n",
       "      <td>0.520324</td>\n",
       "    </tr>\n",
       "    <tr>\n",
       "      <th>3.85</th>\n",
       "      <td>0.989972</td>\n",
       "      <td>0.527947</td>\n",
       "      <td>0.533294</td>\n",
       "    </tr>\n",
       "    <tr>\n",
       "      <th>3.90</th>\n",
       "      <td>0.990958</td>\n",
       "      <td>0.541556</td>\n",
       "      <td>0.546498</td>\n",
       "    </tr>\n",
       "    <tr>\n",
       "      <th>3.95</th>\n",
       "      <td>0.991983</td>\n",
       "      <td>0.555448</td>\n",
       "      <td>0.559937</td>\n",
       "    </tr>\n",
       "    <tr>\n",
       "      <th>4.00</th>\n",
       "      <td>0.993049</td>\n",
       "      <td>0.569629</td>\n",
       "      <td>0.573617</td>\n",
       "    </tr>\n",
       "  </tbody>\n",
       "</table>\n",
       "<p>81 rows × 3 columns</p>\n",
       "</div>"
      ],
      "text/plain": [
       "          mu_M   sigma_M  sigma/mu\n",
       "0.00  0.990000  0.000000  0.000000\n",
       "0.05  0.989399  0.003036  0.003069\n",
       "0.10  0.988809  0.006125  0.006195\n",
       "0.15  0.988227  0.009269  0.009380\n",
       "0.20  0.987656  0.012469  0.012624\n",
       "...        ...       ...       ...\n",
       "3.80  0.989026  0.514614  0.520324\n",
       "3.85  0.989972  0.527947  0.533294\n",
       "3.90  0.990958  0.541556  0.546498\n",
       "3.95  0.991983  0.555448  0.559937\n",
       "4.00  0.993049  0.569629  0.573617\n",
       "\n",
       "[81 rows x 3 columns]"
      ]
     },
     "execution_count": 5,
     "metadata": {},
     "output_type": "execute_result"
    }
   ],
   "source": [
    "# SD(M)/E(M)\n",
    "pricing_kernal = pd.DataFrame({'mu_M': mu_M, 'sigma_M':sigma_M}, index=gamma)\n",
    "pricing_kernal[\"sigma/mu\"] = pricing_kernal[\"sigma_M\"]/pricing_kernal[\"mu_M\"]\n",
    "pricing_kernal"
   ]
  },
  {
   "cell_type": "markdown",
   "id": "38e29556",
   "metadata": {},
   "source": [
    "# Hansen-Jagannathan Bound"
   ]
  },
  {
   "cell_type": "code",
   "execution_count": 6,
   "id": "04d6c8b4",
   "metadata": {},
   "outputs": [
    {
     "data": {
      "text/html": [
       "<div>\n",
       "<style scoped>\n",
       "    .dataframe tbody tr th:only-of-type {\n",
       "        vertical-align: middle;\n",
       "    }\n",
       "\n",
       "    .dataframe tbody tr th {\n",
       "        vertical-align: top;\n",
       "    }\n",
       "\n",
       "    .dataframe thead th {\n",
       "        text-align: right;\n",
       "    }\n",
       "</style>\n",
       "<table border=\"1\" class=\"dataframe\">\n",
       "  <thead>\n",
       "    <tr style=\"text-align: right;\">\n",
       "      <th></th>\n",
       "      <th>mu_M</th>\n",
       "      <th>sigma_M</th>\n",
       "      <th>sigma/mu</th>\n",
       "    </tr>\n",
       "  </thead>\n",
       "  <tbody>\n",
       "    <tr>\n",
       "      <th>3.3</th>\n",
       "      <td>0.981537</td>\n",
       "      <td>0.395288</td>\n",
       "      <td>0.402723</td>\n",
       "    </tr>\n",
       "  </tbody>\n",
       "</table>\n",
       "</div>"
      ],
      "text/plain": [
       "         mu_M   sigma_M  sigma/mu\n",
       "3.3  0.981537  0.395288  0.402723"
      ]
     },
     "execution_count": 6,
     "metadata": {},
     "output_type": "execute_result"
    }
   ],
   "source": [
    "HJ_Bound = pricing_kernal.loc[round(pricing_kernal[\"sigma/mu\"], 2) == 0.40]; HJ_Bound"
   ]
  },
  {
   "cell_type": "markdown",
   "id": "5d1b1551",
   "metadata": {},
   "source": [
    "## Plot Pricing Kernal-Gamma Line"
   ]
  },
  {
   "cell_type": "code",
   "execution_count": 7,
   "id": "24afc43c",
   "metadata": {
    "scrolled": false
   },
   "outputs": [
    {
     "data": {
      "text/plain": [
       "<matplotlib.legend.Legend at 0x257e9bf1490>"
      ]
     },
     "execution_count": 7,
     "metadata": {},
     "output_type": "execute_result"
    },
    {
     "data": {
      "image/png": "[encoded data removed]",
      "text/plain": [
       "<Figure size 1152x576 with 1 Axes>"
      ]
     },
     "metadata": {
      "needs_background": "light"
     },
     "output_type": "display_data"
    }
   ],
   "source": [
    "plt.figure(figsize=(16,8))\n",
    "plt.plot(pricing_kernal[\"sigma/mu\"], 'g')\n",
    "plt.scatter(HJ_Bound.index, HJ_Bound[\"sigma/mu\"])\n",
    "\n",
    "plt.ylabel('SD(M)/E(M)')\n",
    "plt.xlabel('gamma (γ)')\n",
    "plt.legend([\"Pricing Kernal-Gamma Line\"], loc = 2)"
   ]
  }
 ],
 "metadata": {
  "kernelspec": {
   "display_name": "Python 3 (ipykernel)",
   "language": "python",
   "name": "python3"
  },
  "language_info": {
   "codemirror_mode": {
    "name": "ipython",
    "version": 3
   },
   "file_extension": ".py",
   "mimetype": "text/x-python",
   "name": "python",
   "nbconvert_exporter": "python",
   "pygments_lexer": "ipython3",
   "version": "3.9.7"
  }
 },
 "nbformat": 4,
 "nbformat_minor": 5
}
